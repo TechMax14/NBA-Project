{
 "cells": [
  {
   "cell_type": "code",
   "execution_count": 3,
   "id": "bbe2916b-2fb3-4ca5-9d1f-f9c36b2587cc",
   "metadata": {
    "tags": []
   },
   "outputs": [],
   "source": [
    "# IMPORTS\n",
    "from nba_api.stats.static import players, teams\n",
    "from nba_api.stats.endpoints import playercareerstats, playergamelog, teamgamelog, leaguegamefinder, leaguegamelog, commonteamroster, teamdashlineups, commonplayerinfo\n",
    "from nba_api.live.nba.endpoints import scoreboard, playbyplay, boxscore\n",
    "from datetime import datetime, timezone\n",
    "from dateutil import parser\n",
    "import pandas as pd\n",
    "from pprint import pprint"
   ]
  },
  {
   "cell_type": "code",
   "execution_count": null,
   "id": "8494e3bc-7084-425a-890a-94cbcd72b4cc",
   "metadata": {
    "tags": []
   },
   "outputs": [],
   "source": [
    "# GET THE AVERAGE STATS (PTS, RBS, AST) ON THE CURRENT SEASON FOR A PLAYER\n",
    "\n",
    "def calculate_player_averages(target_player_name):\n",
    "    # Get the list of all NBA players\n",
    "    nba_players = players.get_players()\n",
    "\n",
    "    # Find the player with the specified name\n",
    "    target_player = next(player for player in nba_players if player['full_name'] == target_player_name)\n",
    "\n",
    "    # Extract the relevant data for the player's career\n",
    "    career_stats = playercareerstats.PlayerCareerStats(player_id=target_player['id'])\n",
    "    career_per_season_data = career_stats.get_data_frames()[0]\n",
    "\n",
    "    # Create a DataFrame for the player's career stats\n",
    "    player_career_stats_df = pd.DataFrame(career_per_season_data)\n",
    "\n",
    "    # Create a DataFrame with player information\n",
    "    nba_players_df = pd.DataFrame(nba_players)\n",
    "\n",
    "    # Get the player's game log for the current season\n",
    "    game_log = playergamelog.PlayerGameLog(player_id=target_player['id'], season=\"2023-24\")\n",
    "    game_log_data = game_log.get_data_frames()[0]\n",
    "\n",
    "    # Create a DataFrame for the player's game log\n",
    "    game_log_df = pd.DataFrame(game_log_data)\n",
    "    game_log_df['PLAYER_NAME'] = target_player_name\n",
    "\n",
    "    # Calculate average points per game (PPG), average rebounds per game (RPG),\n",
    "    # average assists per game (APG), and average minutes per game (MPG)\n",
    "    average_stats = game_log_df.groupby('PLAYER_NAME').agg({\n",
    "        'PTS': 'mean',\n",
    "        'REB': 'mean',\n",
    "        'AST': 'mean',\n",
    "        'MIN': 'mean'\n",
    "    }).reset_index()\n",
    "\n",
    "    return average_stats\n",
    "\n",
    "# Example usage\n",
    "target_player_name = \"Tyrese Maxey\"\n",
    "average_stats = calculate_player_averages(target_player_name)\n",
    "average_stats"
   ]
  },
  {
   "cell_type": "code",
   "execution_count": null,
   "id": "ddfc4320-044c-48c6-9807-94d6fa113ee7",
   "metadata": {},
   "outputs": [],
   "source": [
    "# Getting http errors but see MISC. file from Sports Data file for example"
   ]
  }
 ],
 "metadata": {
  "kernelspec": {
   "display_name": "Python 3 (ipykernel)",
   "language": "python",
   "name": "python3"
  },
  "language_info": {
   "codemirror_mode": {
    "name": "ipython",
    "version": 3
   },
   "file_extension": ".py",
   "mimetype": "text/x-python",
   "name": "python",
   "nbconvert_exporter": "python",
   "pygments_lexer": "ipython3",
   "version": "3.10.9"
  }
 },
 "nbformat": 4,
 "nbformat_minor": 5
}
