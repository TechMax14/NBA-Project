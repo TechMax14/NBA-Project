{
 "cells": [
  {
   "cell_type": "code",
   "execution_count": 5,
   "id": "bfc45dc9-9c92-4ccd-aac5-bca2d0925d2d",
   "metadata": {
    "tags": []
   },
   "outputs": [],
   "source": [
    "# IMPORTS\n",
    "from nba_api.live.nba.endpoints import scoreboard\n",
    "import pandas as pd"
   ]
  },
  {
   "cell_type": "code",
   "execution_count": 6,
   "id": "1f3b136c-0dc3-43d4-99c2-e00ac95d6192",
   "metadata": {
    "tags": []
   },
   "outputs": [
    {
     "data": {
      "text/html": [
       "<div>\n",
       "<style scoped>\n",
       "    .dataframe tbody tr th:only-of-type {\n",
       "        vertical-align: middle;\n",
       "    }\n",
       "\n",
       "    .dataframe tbody tr th {\n",
       "        vertical-align: top;\n",
       "    }\n",
       "\n",
       "    .dataframe thead th {\n",
       "        text-align: right;\n",
       "    }\n",
       "</style>\n",
       "<table border=\"1\" class=\"dataframe\">\n",
       "  <thead>\n",
       "    <tr style=\"text-align: right;\">\n",
       "      <th></th>\n",
       "      <th>GameId</th>\n",
       "      <th>AwayTeam</th>\n",
       "      <th>HomeTeam</th>\n",
       "      <th>GameTimeLTZ</th>\n",
       "    </tr>\n",
       "  </thead>\n",
       "  <tbody>\n",
       "    <tr>\n",
       "      <th>0</th>\n",
       "      <td>0022301201</td>\n",
       "      <td>NYK</td>\n",
       "      <td>MIL</td>\n",
       "      <td>2023-12-05 19:30:00-05:00</td>\n",
       "    </tr>\n",
       "    <tr>\n",
       "      <th>1</th>\n",
       "      <td>0022301203</td>\n",
       "      <td>PHX</td>\n",
       "      <td>LAL</td>\n",
       "      <td>2023-12-05 22:00:00-05:00</td>\n",
       "    </tr>\n",
       "  </tbody>\n",
       "</table>\n",
       "</div>"
      ],
      "text/plain": [
       "       GameId AwayTeam HomeTeam               GameTimeLTZ\n",
       "0  0022301201      NYK      MIL 2023-12-05 19:30:00-05:00\n",
       "1  0022301203      PHX      LAL 2023-12-05 22:00:00-05:00"
      ]
     },
     "execution_count": 6,
     "metadata": {},
     "output_type": "execute_result"
    }
   ],
   "source": [
    "# TODAYS SCOREBOARD\n",
    "board = scoreboard.ScoreBoard() # Get the scoreboard for today's games\n",
    "games_data = board.games.get_dict()\n",
    "\n",
    "# Create a list to store game information\n",
    "game_list = []\n",
    "\n",
    "# Format the game information and append it to the list\n",
    "for game in games_data:\n",
    "    gameTimeLTZ = parser.parse(game[\"gameTimeUTC\"]).replace(tzinfo=timezone.utc).astimezone(tz=None)\n",
    "    game_info = {\n",
    "        \"GameId\": game['gameId'],\n",
    "        \"AwayTeam\": game['awayTeam']['teamTricode'],\n",
    "        \"HomeTeam\": game['homeTeam']['teamTricode'],\n",
    "        \"GameTimeLTZ\": gameTimeLTZ\n",
    "    }\n",
    "    game_list.append(game_info)\n",
    "\n",
    "# Convert the list of dictionaries to a DataFrame\n",
    "games_df = pd.DataFrame(game_list)\n",
    "games_df"
   ]
  },
  {
   "cell_type": "code",
   "execution_count": null,
   "id": "8dc054b3-311f-41d8-bb92-df097ce4bd99",
   "metadata": {},
   "outputs": [],
   "source": []
  }
 ],
 "metadata": {
  "kernelspec": {
   "display_name": "Python 3 (ipykernel)",
   "language": "python",
   "name": "python3"
  },
  "language_info": {
   "codemirror_mode": {
    "name": "ipython",
    "version": 3
   },
   "file_extension": ".py",
   "mimetype": "text/x-python",
   "name": "python",
   "nbconvert_exporter": "python",
   "pygments_lexer": "ipython3",
   "version": "3.10.9"
  }
 },
 "nbformat": 4,
 "nbformat_minor": 5
}
